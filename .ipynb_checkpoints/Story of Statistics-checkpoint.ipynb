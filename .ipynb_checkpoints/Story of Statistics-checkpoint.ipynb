{
 "cells": [
  {
   "cell_type": "markdown",
   "id": "9afe2bd1",
   "metadata": {},
   "source": [
    "# Chapter 1: Statistical Thinking for Programmers\n",
    "\n",
    "1. **Probability** - study of random events\n",
    "2. **Statistics** - discipline of using data samples to support claims about populations. Most statistical analysis is based on probability, which is why these pieces are usually presented together.\n",
    "3. **Computation** - Computation is a tool that is well-suited to quantitative analysis, and computers are commonly used to process statistics."
   ]
  },
  {
   "cell_type": "markdown",
   "id": "4d3f808b",
   "metadata": {},
   "source": [
    "## Fallacies and Biases\n",
    "1. **Selection Bias** - Only certain subset of population sampled who experienced a certain event or belonged to a particular demography\n",
    "2. **Confirmation Bias** - Citing examples supporting their hypothesis and ignoring the counter evidence\n",
    "3. **Small Sample Size** - Few observations, unreliable to draw conclusion"
   ]
  },
  {
   "cell_type": "markdown",
   "id": "71aab48a",
   "metadata": {},
   "source": [
    "## Steps | Terms | Glossary | Definitions\n",
    "1. **Data collection** - Finding or sampling data from relevant source\n",
    "2. **Descriptive Statistics** - Statistics that summarize the data concisely, and evaluate different ways to visualize data\n",
    "3. **Exploratory data analysis** - We will look for patterns, differences, and other features that address the questions we are interested in. At the same time we will check for inconsistencies and identify limitations\n",
    "4. **Hypothesis testing** - Where we see apparent effects, like a difference be- tween two groups, we will evaluate whether the effect is real, or whether it might have happened by chance\n",
    "5. **Estimation** - We will use data from a sample to estimate characteristics of the general population\n",
    "6. **Cross-sectional Study** -  Captures a snapshot of a group at dnala point in time\n",
    "7. **Longitudnal Study** - Observes a group repeatedly over a period of time\n",
    "8. **Population** - Objective of surveys, sampling and statistics is to draw conclusions about the population - all instances of the target group\n",
    "9. **Respondents** - People who participate in the survey\n",
    "10. **Cohort** - Group of respondents\n",
    "11. **Representative Survey** - In general, cross-sectional studies are meant to be representative, which means that every member of the target population has an equal chance of participating. That ideal is hard to achieve in practice, but people who conduct surveys come as close as they can.\n",
    "12. **Oversampling** - Some groups recruited or sampled at higher rates than their actual proportion in the population. \n",
    "    1. The reason for oversampling is to make sure that the num- ber of respondents in each of these groups is large enough to draw valid statistical inferences.\n",
    "    2. The drawback of oversampling is that it is not as easy to draw conclusions about the general population based on statistics from the survey.\n",
    "13. **Table** - Collection of records | instances | rows\n",
    "14. **Fields** - Columns | Features | Variables | Each column of Excel sheet\n",
    "15. **Record** - Instance | Row | Each line or row of Excel sheet\n",
    "16. **DataFrame** - The fundamental data structure provided by pandas, which is a Python data and statistics package we’ll use\n",
    "    1. In addition to the data, a DataFrame also contains the variable names and their types, and it provides methods for accessing and modifying the data.\n",
    "17. **Data Cleaning** - \n",
    "    1. Check for errors, missing values\n",
    "    2. Deal with special values - Outliers, incorrect data\n",
    "    3. Convert data into different formats - string to datetime\n",
    "    4. Perform calculations - imputing missing values, Standardisation, Normalisation, COnverting kilogram and pound to same unit\n",
    "18. **Data Validation** - When data is exported from one software environment and imported into another, errors might be introduced.\n",
    "    1. Incorrect data interpretation\n",
    "    2. Method to validate: compute basic statistics and compare them with published results\n",
    "19. **Data Interpretation** -  To work with data effectively, you have to think on two levels at the same time: the level of statistics and the level of context.\n",
    "20. **Anecdotal Evidence** - Evidence, often personal, that is collected casually rather than by a well-designed study."
   ]
  },
  {
   "cell_type": "markdown",
   "id": "1ad1b2cc",
   "metadata": {},
   "source": [
    "# Chapter 2: Distributions"
   ]
  },
  {
   "cell_type": "markdown",
   "id": "2c65c6f9",
   "metadata": {},
   "source": [
    "## Steps | Terms | Glossary | Definitions\n",
    "1. **Distribution** - Ways to describe a variable:\n",
    "    1. Report the values that appear in the dataset\n",
    "    2. How many times each value appears\n",
    "2. **Histogram** - Most common representation of distribution\n",
    "    1. A graph that shows the frequency of each value\n",
    "    2. Frequency - means the number of times the value appears\n",
    "3. \n"
   ]
  }
 ],
 "metadata": {
  "kernelspec": {
   "display_name": "Python 3 (ipykernel)",
   "language": "python",
   "name": "python3"
  },
  "language_info": {
   "codemirror_mode": {
    "name": "ipython",
    "version": 3
   },
   "file_extension": ".py",
   "mimetype": "text/x-python",
   "name": "python",
   "nbconvert_exporter": "python",
   "pygments_lexer": "ipython3",
   "version": "3.9.10"
  }
 },
 "nbformat": 4,
 "nbformat_minor": 5
}
