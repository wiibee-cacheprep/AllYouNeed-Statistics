{
 "cells": [
  {
   "cell_type": "markdown",
   "id": "68bd0e53",
   "metadata": {},
   "source": [
    "# Happy Mother's Day!\n",
    "\n",
    "### Execute cell 1 by pressing on the play button appearing on the left side.\n",
    "### Enter your mother's name within quotes in front of name in the second cell below and execute!\n",
    "### Scroll below and give her the gift that appears!"
   ]
  },
  {
   "cell_type": "code",
   "execution_count": 102,
   "id": "0984a091",
   "metadata": {},
   "outputs": [],
   "source": [
    "### Implementation below this. Please ignore!\n",
    "from collections import Counter\n",
    "\n",
    "letter_frequency = {\"E\": 130, \"T\": 91, \"A\": 82, \"O\": 75, \"I\": 70, \"N\": 67, \"S\": 63, \"H\": 61, \"R\": 60, \"D\": 43,\n",
    "                    \"L\": 40, \"C\": 28, \"U\": 28, \"M\": 24, \"W\": 24, \"F\": 22, \"G\": 20, \"Y\": 20, \"P\": 19,\n",
    "                    \"B\": 15, \"V\": 9, \"K\": 7, \"X\": 1, \"J\": 1, \"Q\": 1, \"Z\": 1}\n",
    "\n",
    "text = \"Tell your mom how much you love her! \"\n",
    "mothers_day_gift = {\n",
    "    0: \"watch her favorite movie together!\",\n",
    "    1: \"make her favorite meal! You will probably ruin it but she will still love it!\",\n",
    "    2: \"take her out for shopping!\",\n",
    "    3: \"take her for a nice dinner!\",\n",
    "    4: \"update your name on all social media to her last name!\",\n",
    "    5: \"tell her a secret you never have told her!\",\n",
    "    6: \"give her 3 Wild Cards valid till next Mother's Day - which she can use to ask you to do anything!\",\n",
    "    7: \"gift her a new phone!\",\n",
    "    8: \"create a playlist of her favorite songs in her phone!\",\n",
    "    9: \"book a tour to her favorite destination!\"\n",
    "}\n",
    "\n",
    "def calculate_weight(name_letter_count, letter_frequency=letter_frequency):\n",
    "    letter_frequency_sum = 0\n",
    "    for key, val in name_letter_count.items():\n",
    "        letter_frequency_sum += (val * letter_frequency.get(key, 0))\n",
    "    return letter_frequency_sum\n",
    "\n",
    "def calculate_modulus(letter_frequency_sum):\n",
    "    return letter_frequency_sum % 10\n",
    "\n",
    "def get_gift(name):\n",
    "    name_list = list([value for value in name.strip() if value.isalpha()])\n",
    "    name_upper = \"\".join(name_list).upper()\n",
    "    name_letter_count = Counter(name_upper)\n",
    "    name_alphabet_weight = calculate_weight(name_letter_count, letter_frequency)\n",
    "    gift_option = calculate_modulus(name_alphabet_weight)\n",
    "    return mothers_day_gift.get(gift_option, \"Some Error Occurred! Please enter name and retry!\")\n",
    "\n",
    "### Implementation above this - ignore"
   ]
  },
  {
   "cell_type": "code",
   "execution_count": 103,
   "id": "cdd7f10b",
   "metadata": {},
   "outputs": [
    {
     "name": "stdout",
     "output_type": "stream",
     "text": [
      "Tell your mom how much you love her!  Then watch her favorite movie together!\n"
     ]
    }
   ],
   "source": [
    "# Enter your mother's name inside quotes and execute\n",
    "# Please execute both cells one after another\n",
    "\n",
    "name = \"\"    \n",
    "print(f'{text} Then {get_gift(name)}')\n"
   ]
  },
  {
   "cell_type": "code",
   "execution_count": null,
   "id": "f8e0bdc4",
   "metadata": {},
   "outputs": [],
   "source": []
  }
 ],
 "metadata": {
  "kernelspec": {
   "display_name": "Python 3 (ipykernel)",
   "language": "python",
   "name": "python3"
  },
  "language_info": {
   "codemirror_mode": {
    "name": "ipython",
    "version": 3
   },
   "file_extension": ".py",
   "mimetype": "text/x-python",
   "name": "python",
   "nbconvert_exporter": "python",
   "pygments_lexer": "ipython3",
   "version": "3.9.10"
  }
 },
 "nbformat": 4,
 "nbformat_minor": 5
}
