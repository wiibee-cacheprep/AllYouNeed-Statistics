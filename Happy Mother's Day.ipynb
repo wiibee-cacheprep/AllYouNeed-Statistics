{
 "cells": [
  {
   "cell_type": "code",
   "execution_count": 2,
   "id": "cdb55ce8",
   "metadata": {},
   "outputs": [],
   "source": [
    "letter_frequency = {\"E\": 130.00,\n",
    "\"T\": 91.00,\n",
    "\"A\": 82.00,\n",
    "\"O\": 75.00,\n",
    "\"I\": 70.00,\n",
    "\"N\": 67.00,\n",
    "\"S\": 63.00,\n",
    "\"H\": 61.00,\n",
    "\"R\": 60.00,\n",
    "\"D\": 43.00,\n",
    "\"L\": 40.00,\n",
    "\"C\": 28.00,\n",
    "\"U\": 28.00,\n",
    "\"M\": 24.00,\n",
    "\"W\": 24.00,\n",
    "\"F\": 22.00,\n",
    "\"G\": 20.00,\n",
    "\"Y\": 20.00,\n",
    "\"P\": 19.00,\n",
    "\"B\": 15.00,\n",
    "\"V\": 9.80,\n",
    "\"K\": 7.70,\n",
    "\"X\": 1.50,\n",
    "\"J\": 1.50,\n",
    "\"Q\": 0.95,\n",
    "\"Z\": 0.74}"
   ]
  },
  {
   "cell_type": "code",
   "execution_count": null,
   "id": "3d5af9fe",
   "metadata": {},
   "outputs": [],
   "source": [
    "mothers_day_gift = {\n",
    "    0: \"Tell your mom how much you love her!\",\n",
    "    1: \"Make her favorite meal! You will probably ruin it but she will still love it!\",\n",
    "    2: \"Take her out for shopping!\",\n",
    "    3: \"Take her for a nice dinner!\",\n",
    "    4: \"Update your name on all social media to her last name!\",\n",
    "    5: \"Tell her a secret you never\",\n",
    "    6: \"\",\n",
    "    7: \"\",\n",
    "    8: \"\",\n",
    "    9: \"\"\n",
    "}"
   ]
  }
 ],
 "metadata": {
  "kernelspec": {
   "display_name": "Python 3 (ipykernel)",
   "language": "python",
   "name": "python3"
  },
  "language_info": {
   "codemirror_mode": {
    "name": "ipython",
    "version": 3
   },
   "file_extension": ".py",
   "mimetype": "text/x-python",
   "name": "python",
   "nbconvert_exporter": "python",
   "pygments_lexer": "ipython3",
   "version": "3.9.10"
  }
 },
 "nbformat": 4,
 "nbformat_minor": 5
}
