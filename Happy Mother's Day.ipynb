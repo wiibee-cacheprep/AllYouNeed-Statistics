{
 "cells": [
  {
   "cell_type": "markdown",
   "id": "a30b18a6",
   "metadata": {},
   "source": [
    "# Enter your mother's name in the box below and execute\""
   ]
  },
  {
   "cell_type": "code",
   "execution_count": 88,
   "id": "eaaf598e",
   "metadata": {},
   "outputs": [
    {
     "name": "stdout",
     "output_type": "stream",
     "text": [
      "Tell your mom how much you love her!  Then watch her favorite movie together!\n"
     ]
    }
   ],
   "source": [
    "name = \"\"    # Enter your mother's name inside quotes and execute\n",
    "print(f'{text} Then {get_gift(name)}')"
   ]
  },
  {
   "cell_type": "code",
   "execution_count": null,
   "id": "b6207f5e",
   "metadata": {},
   "outputs": [],
   "source": []
  },
  {
   "cell_type": "code",
   "execution_count": null,
   "id": "a63f702b",
   "metadata": {},
   "outputs": [],
   "source": []
  },
  {
   "cell_type": "code",
   "execution_count": null,
   "id": "e5bada3b",
   "metadata": {},
   "outputs": [],
   "source": []
  },
  {
   "cell_type": "code",
   "execution_count": null,
   "id": "1643ccab",
   "metadata": {},
   "outputs": [],
   "source": []
  },
  {
   "cell_type": "code",
   "execution_count": null,
   "id": "eaa373a7",
   "metadata": {},
   "outputs": [],
   "source": []
  },
  {
   "cell_type": "code",
   "execution_count": null,
   "id": "e8f2022a",
   "metadata": {},
   "outputs": [],
   "source": []
  },
  {
   "cell_type": "code",
   "execution_count": null,
   "id": "5cf23ace",
   "metadata": {},
   "outputs": [],
   "source": []
  },
  {
   "cell_type": "code",
   "execution_count": null,
   "id": "088079ca",
   "metadata": {},
   "outputs": [],
   "source": []
  },
  {
   "cell_type": "code",
   "execution_count": null,
   "id": "aaf15c13",
   "metadata": {},
   "outputs": [],
   "source": []
  },
  {
   "cell_type": "markdown",
   "id": "9dbc49f0",
   "metadata": {},
   "source": [
    "### Implementation below this. Please ignore!"
   ]
  },
  {
   "cell_type": "code",
   "execution_count": 35,
   "id": "dedaabd3",
   "metadata": {},
   "outputs": [],
   "source": [
    "from collections import Counter"
   ]
  },
  {
   "cell_type": "code",
   "execution_count": 74,
   "id": "5f3d88c1",
   "metadata": {},
   "outputs": [],
   "source": [
    "def calculate_weight(name_letter_count, letter_frequency=letter_frequency):\n",
    "    letter_frequency_sum = 0\n",
    "    for key, val in name_letter_count.items():\n",
    "        letter_frequency_sum += (val * letter_frequency.get(key, 0))\n",
    "    return letter_frequency_sum"
   ]
  },
  {
   "cell_type": "code",
   "execution_count": 75,
   "id": "cad34a34",
   "metadata": {},
   "outputs": [],
   "source": [
    "def calculate_modulus(letter_frequency_sum):\n",
    "    return letter_frequency_sum % 10"
   ]
  },
  {
   "cell_type": "code",
   "execution_count": 77,
   "id": "ba35a17e",
   "metadata": {},
   "outputs": [],
   "source": [
    "def get_gift(name):\n",
    "    name_list = list([value for value in name.strip() if value.isalpha()])\n",
    "    name_upper = \"\".join(name_list).upper()\n",
    "    name_letter_count = Counter(name_upper)\n",
    "    name_alphabet_weight = calculate_weight(name_letter_count, letter_frequency)\n",
    "    gift_option = calculate_modulus(name_alphabet_weight)\n",
    "    return mothers_day_gift.get(gift_option, \"Some Error Occurred! Please enter name and retry!\")"
   ]
  },
  {
   "cell_type": "code",
   "execution_count": 78,
   "id": "87b8877e",
   "metadata": {},
   "outputs": [],
   "source": [
    "letter_frequency = {\"E\": 130,\n",
    "\"T\": 91,\n",
    "\"A\": 82,\n",
    "\"O\": 75,\n",
    "\"I\": 70,\n",
    "\"N\": 67,\n",
    "\"S\": 63,\n",
    "\"H\": 61,\n",
    "\"R\": 60,\n",
    "\"D\": 43,\n",
    "\"L\": 40,\n",
    "\"C\": 28,\n",
    "\"U\": 28,\n",
    "\"M\": 24,\n",
    "\"W\": 24,\n",
    "\"F\": 22,\n",
    "\"G\": 20,\n",
    "\"Y\": 20,\n",
    "\"P\": 19,\n",
    "\"B\": 15,\n",
    "\"V\": 9,\n",
    "\"K\": 7,\n",
    "\"X\": 1,\n",
    "\"J\": 1,\n",
    "\"Q\": 1,\n",
    "\"Z\": 1}"
   ]
  },
  {
   "cell_type": "code",
   "execution_count": 79,
   "id": "8de1b68c",
   "metadata": {},
   "outputs": [],
   "source": [
    "text = \"Tell your mom how much you love her! \""
   ]
  },
  {
   "cell_type": "code",
   "execution_count": 80,
   "id": "366664ce",
   "metadata": {},
   "outputs": [],
   "source": [
    "mothers_day_gift = {\n",
    "    0: \"watch her favorite movie together!\",\n",
    "    1: \"make her favorite meal! You will probably ruin it but she will still love it!\",\n",
    "    2: \"take her out for shopping!\",\n",
    "    3: \"take her for a nice dinner!\",\n",
    "    4: \"update your name on all social media to her last name!\",\n",
    "    5: \"tell her a secret you never have told her!\",\n",
    "    6: \"give her 3 Wild Cards valid till next Mother's Day - which she can use to ask you to do anything!\",\n",
    "    7: \"gift her a new phone!\",\n",
    "    8: \"create a playlist of her favorite songs in her phone!\",\n",
    "    9: \"book a tour to her favorite destination!\"\n",
    "}"
   ]
  },
  {
   "cell_type": "code",
   "execution_count": null,
   "id": "453ce491",
   "metadata": {},
   "outputs": [],
   "source": []
  }
 ],
 "metadata": {
  "kernelspec": {
   "display_name": "Python 3 (ipykernel)",
   "language": "python",
   "name": "python3"
  },
  "language_info": {
   "codemirror_mode": {
    "name": "ipython",
    "version": 3
   },
   "file_extension": ".py",
   "mimetype": "text/x-python",
   "name": "python",
   "nbconvert_exporter": "python",
   "pygments_lexer": "ipython3",
   "version": "3.9.10"
  }
 },
 "nbformat": 4,
 "nbformat_minor": 5
}
