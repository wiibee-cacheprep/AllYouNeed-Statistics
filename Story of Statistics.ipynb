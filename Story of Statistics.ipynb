{
 "cells": [
  {
   "cell_type": "markdown",
   "id": "11804152",
   "metadata": {},
   "source": [
    "# Introduction\n",
    "1. Discuss Population and a metric you need to measure - e.g. height\n",
    "2. Discuss Sample\n",
    "3. Discuss Descriptive Statistics\n",
    "4. Measures of Central Tendency as a representative element that represents the entire Sample\n",
    "    1. Mean\n",
    "    2. Median\n",
    "    3. Mode\n",
    "5. Spread\n",
    "    1. Variance\n",
    "    2. Standard Deviation\n",
    "6. Using Samples to estimate metric for the entire Population\n",
    "7. How confident are we of the estimate?\n",
    "8. Probability\n",
    "    1. Dice - Discrete - 1,2,3,4,5,6 with 1/6 porpbability of each\n",
    "    2. 100-sided Dice - 1,2,3,...,100 with 1/100 probability\n",
    "    3. 1000000-sided Dice - 1,2,3,...,1000000 with 1/1000000 probability\n",
    "    4. Plot all three\n",
    "    5. Discrete distribution\n",
    "    6. Transition into Density function for Continuous distribution\n",
    "        1. PDF provides the probability of a value falling in a particular interval as integral of the area underneath it else probability of a single value is always 0 since infinite points\n",
    "    7. Link with 7 - probability of estimated metric falling in an interval\n",
    "9. Confidence Interval\n",
    "10. p-value\n",
    "11. Normal Distribution\n",
    "12. Other distributions\n",
    "    1. Uniform Distribution: all values should have the same frequency\n",
    "13. Sampling Distribution of Sample Mean\n",
    "    1. Sample Dice 2 times - (1,1), ...., (6,6) with their probabilities\n",
    "    2. Sample Dice 3 times - (1,1,1), ...., (6,6,6) with their probabilities\n",
    "    "
   ]
  }
 ],
 "metadata": {
  "kernelspec": {
   "display_name": "Python 3 (ipykernel)",
   "language": "python",
   "name": "python3"
  },
  "language_info": {
   "codemirror_mode": {
    "name": "ipython",
    "version": 3
   },
   "file_extension": ".py",
   "mimetype": "text/x-python",
   "name": "python",
   "nbconvert_exporter": "python",
   "pygments_lexer": "ipython3",
   "version": "3.9.10"
  }
 },
 "nbformat": 4,
 "nbformat_minor": 5
}
